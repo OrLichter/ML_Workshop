{
 "nbformat": 4,
 "nbformat_minor": 0,
 "metadata": {
  "colab": {
   "name": "Scaling.ipynb",
   "provenance": []
  },
  "kernelspec": {
   "name": "pycharm-9427407b",
   "language": "python",
   "display_name": "PyCharm (ML_Workshop_git)"
  },
  "widgets": {
   "application/vnd.jupyter.widget-state+json": {
    "b3cf196bd8bb4149b3c4daf0430b62e6": {
     "model_module": "@jupyter-widgets/controls",
     "model_name": "HBoxModel",
     "state": {
      "_view_name": "HBoxView",
      "_dom_classes": [],
      "_model_name": "HBoxModel",
      "_view_module": "@jupyter-widgets/controls",
      "_model_module_version": "1.5.0",
      "_view_count": null,
      "_view_module_version": "1.5.0",
      "box_style": "",
      "layout": "IPY_MODEL_e8a1e70a32694a41a2cf76050e00e4f3",
      "_model_module": "@jupyter-widgets/controls",
      "children": [
       "IPY_MODEL_27a79503f5bd470eaa39c95c22e5713c",
       "IPY_MODEL_b148edc412fe47068e439693b4d7e717"
      ]
     }
    },
    "e8a1e70a32694a41a2cf76050e00e4f3": {
     "model_module": "@jupyter-widgets/base",
     "model_name": "LayoutModel",
     "state": {
      "_view_name": "LayoutView",
      "grid_template_rows": null,
      "right": null,
      "justify_content": null,
      "_view_module": "@jupyter-widgets/base",
      "overflow": null,
      "_model_module_version": "1.2.0",
      "_view_count": null,
      "flex_flow": null,
      "width": null,
      "min_width": null,
      "border": null,
      "align_items": null,
      "bottom": null,
      "_model_module": "@jupyter-widgets/base",
      "top": null,
      "grid_column": null,
      "overflow_y": null,
      "overflow_x": null,
      "grid_auto_flow": null,
      "grid_area": null,
      "grid_template_columns": null,
      "flex": null,
      "_model_name": "LayoutModel",
      "justify_items": null,
      "grid_row": null,
      "max_height": null,
      "align_content": null,
      "visibility": null,
      "align_self": null,
      "height": null,
      "min_height": null,
      "padding": null,
      "grid_auto_rows": null,
      "grid_gap": null,
      "max_width": null,
      "order": null,
      "_view_module_version": "1.2.0",
      "grid_template_areas": null,
      "object_position": null,
      "object_fit": null,
      "grid_auto_columns": null,
      "margin": null,
      "display": null,
      "left": null
     }
    },
    "27a79503f5bd470eaa39c95c22e5713c": {
     "model_module": "@jupyter-widgets/controls",
     "model_name": "FloatProgressModel",
     "state": {
      "_view_name": "ProgressView",
      "style": "IPY_MODEL_6cc95e31a5bd488592e94c72157d141a",
      "_dom_classes": [],
      "description": "100%",
      "_model_name": "FloatProgressModel",
      "bar_style": "success",
      "max": 2049,
      "_view_module": "@jupyter-widgets/controls",
      "_model_module_version": "1.5.0",
      "value": 2049,
      "_view_count": null,
      "_view_module_version": "1.5.0",
      "orientation": "horizontal",
      "min": 0,
      "description_tooltip": null,
      "_model_module": "@jupyter-widgets/controls",
      "layout": "IPY_MODEL_84d2358a4bc44690a748b7157bd75514"
     }
    },
    "b148edc412fe47068e439693b4d7e717": {
     "model_module": "@jupyter-widgets/controls",
     "model_name": "HTMLModel",
     "state": {
      "_view_name": "HTMLView",
      "style": "IPY_MODEL_99e199072c8e432989d27af2d2cc482c",
      "_dom_classes": [],
      "description": "",
      "_model_name": "HTMLModel",
      "placeholder": "​",
      "_view_module": "@jupyter-widgets/controls",
      "_model_module_version": "1.5.0",
      "value": " 2049/2049 [6:21:28&lt;00:00, 11.17s/it]",
      "_view_count": null,
      "_view_module_version": "1.5.0",
      "description_tooltip": null,
      "_model_module": "@jupyter-widgets/controls",
      "layout": "IPY_MODEL_5b5d50a98de34451afd218175af0de22"
     }
    },
    "6cc95e31a5bd488592e94c72157d141a": {
     "model_module": "@jupyter-widgets/controls",
     "model_name": "ProgressStyleModel",
     "state": {
      "_view_name": "StyleView",
      "_model_name": "ProgressStyleModel",
      "description_width": "initial",
      "_view_module": "@jupyter-widgets/base",
      "_model_module_version": "1.5.0",
      "_view_count": null,
      "_view_module_version": "1.2.0",
      "bar_color": null,
      "_model_module": "@jupyter-widgets/controls"
     }
    },
    "84d2358a4bc44690a748b7157bd75514": {
     "model_module": "@jupyter-widgets/base",
     "model_name": "LayoutModel",
     "state": {
      "_view_name": "LayoutView",
      "grid_template_rows": null,
      "right": null,
      "justify_content": null,
      "_view_module": "@jupyter-widgets/base",
      "overflow": null,
      "_model_module_version": "1.2.0",
      "_view_count": null,
      "flex_flow": null,
      "width": null,
      "min_width": null,
      "border": null,
      "align_items": null,
      "bottom": null,
      "_model_module": "@jupyter-widgets/base",
      "top": null,
      "grid_column": null,
      "overflow_y": null,
      "overflow_x": null,
      "grid_auto_flow": null,
      "grid_area": null,
      "grid_template_columns": null,
      "flex": null,
      "_model_name": "LayoutModel",
      "justify_items": null,
      "grid_row": null,
      "max_height": null,
      "align_content": null,
      "visibility": null,
      "align_self": null,
      "height": null,
      "min_height": null,
      "padding": null,
      "grid_auto_rows": null,
      "grid_gap": null,
      "max_width": null,
      "order": null,
      "_view_module_version": "1.2.0",
      "grid_template_areas": null,
      "object_position": null,
      "object_fit": null,
      "grid_auto_columns": null,
      "margin": null,
      "display": null,
      "left": null
     }
    },
    "99e199072c8e432989d27af2d2cc482c": {
     "model_module": "@jupyter-widgets/controls",
     "model_name": "DescriptionStyleModel",
     "state": {
      "_view_name": "StyleView",
      "_model_name": "DescriptionStyleModel",
      "description_width": "",
      "_view_module": "@jupyter-widgets/base",
      "_model_module_version": "1.5.0",
      "_view_count": null,
      "_view_module_version": "1.2.0",
      "_model_module": "@jupyter-widgets/controls"
     }
    },
    "5b5d50a98de34451afd218175af0de22": {
     "model_module": "@jupyter-widgets/base",
     "model_name": "LayoutModel",
     "state": {
      "_view_name": "LayoutView",
      "grid_template_rows": null,
      "right": null,
      "justify_content": null,
      "_view_module": "@jupyter-widgets/base",
      "overflow": null,
      "_model_module_version": "1.2.0",
      "_view_count": null,
      "flex_flow": null,
      "width": null,
      "min_width": null,
      "border": null,
      "align_items": null,
      "bottom": null,
      "_model_module": "@jupyter-widgets/base",
      "top": null,
      "grid_column": null,
      "overflow_y": null,
      "overflow_x": null,
      "grid_auto_flow": null,
      "grid_area": null,
      "grid_template_columns": null,
      "flex": null,
      "_model_name": "LayoutModel",
      "justify_items": null,
      "grid_row": null,
      "max_height": null,
      "align_content": null,
      "visibility": null,
      "align_self": null,
      "height": null,
      "min_height": null,
      "padding": null,
      "grid_auto_rows": null,
      "grid_gap": null,
      "max_width": null,
      "order": null,
      "_view_module_version": "1.2.0",
      "grid_template_areas": null,
      "object_position": null,
      "object_fit": null,
      "grid_auto_columns": null,
      "margin": null,
      "display": null,
      "left": null
     }
    },
    "282d62774b484b0a94614593ddd2225f": {
     "model_module": "@jupyter-widgets/controls",
     "model_name": "HBoxModel",
     "state": {
      "_view_name": "HBoxView",
      "_dom_classes": [],
      "_model_name": "HBoxModel",
      "_view_module": "@jupyter-widgets/controls",
      "_model_module_version": "1.5.0",
      "_view_count": null,
      "_view_module_version": "1.5.0",
      "box_style": "",
      "layout": "IPY_MODEL_ea3001fd57f54e6ea833f9eb3bf17df8",
      "_model_module": "@jupyter-widgets/controls",
      "children": [
       "IPY_MODEL_cd2abd781c7448beb306235d21063e93",
       "IPY_MODEL_aa8d5b1a4d4b444280c328064692e650"
      ]
     }
    },
    "ea3001fd57f54e6ea833f9eb3bf17df8": {
     "model_module": "@jupyter-widgets/base",
     "model_name": "LayoutModel",
     "state": {
      "_view_name": "LayoutView",
      "grid_template_rows": null,
      "right": null,
      "justify_content": null,
      "_view_module": "@jupyter-widgets/base",
      "overflow": null,
      "_model_module_version": "1.2.0",
      "_view_count": null,
      "flex_flow": null,
      "width": null,
      "min_width": null,
      "border": null,
      "align_items": null,
      "bottom": null,
      "_model_module": "@jupyter-widgets/base",
      "top": null,
      "grid_column": null,
      "overflow_y": null,
      "overflow_x": null,
      "grid_auto_flow": null,
      "grid_area": null,
      "grid_template_columns": null,
      "flex": null,
      "_model_name": "LayoutModel",
      "justify_items": null,
      "grid_row": null,
      "max_height": null,
      "align_content": null,
      "visibility": null,
      "align_self": null,
      "height": null,
      "min_height": null,
      "padding": null,
      "grid_auto_rows": null,
      "grid_gap": null,
      "max_width": null,
      "order": null,
      "_view_module_version": "1.2.0",
      "grid_template_areas": null,
      "object_position": null,
      "object_fit": null,
      "grid_auto_columns": null,
      "margin": null,
      "display": null,
      "left": null
     }
    },
    "cd2abd781c7448beb306235d21063e93": {
     "model_module": "@jupyter-widgets/controls",
     "model_name": "FloatProgressModel",
     "state": {
      "_view_name": "ProgressView",
      "style": "IPY_MODEL_60836de19eba494d9bd023145b8ca6ba",
      "_dom_classes": [],
      "description": "",
      "_model_name": "FloatProgressModel",
      "bar_style": "success",
      "max": 2049,
      "_view_module": "@jupyter-widgets/controls",
      "_model_module_version": "1.5.0",
      "value": 2049,
      "_view_count": null,
      "_view_module_version": "1.5.0",
      "orientation": "horizontal",
      "min": 0,
      "description_tooltip": null,
      "_model_module": "@jupyter-widgets/controls",
      "layout": "IPY_MODEL_e85b0a8ef0df4236b75e5a2cd4c0c0e4"
     }
    },
    "aa8d5b1a4d4b444280c328064692e650": {
     "model_module": "@jupyter-widgets/controls",
     "model_name": "HTMLModel",
     "state": {
      "_view_name": "HTMLView",
      "style": "IPY_MODEL_c360eca9701347fc8534460a5bee0e3d",
      "_dom_classes": [],
      "description": "",
      "_model_name": "HTMLModel",
      "placeholder": "​",
      "_view_module": "@jupyter-widgets/controls",
      "_model_module_version": "1.5.0",
      "value": " 2058/? [2:08:26&lt;00:00,  3.74s/it]",
      "_view_count": null,
      "_view_module_version": "1.5.0",
      "description_tooltip": null,
      "_model_module": "@jupyter-widgets/controls",
      "layout": "IPY_MODEL_f495aab614074f01b9d3d67a45a79de6"
     }
    },
    "60836de19eba494d9bd023145b8ca6ba": {
     "model_module": "@jupyter-widgets/controls",
     "model_name": "ProgressStyleModel",
     "state": {
      "_view_name": "StyleView",
      "_model_name": "ProgressStyleModel",
      "description_width": "initial",
      "_view_module": "@jupyter-widgets/base",
      "_model_module_version": "1.5.0",
      "_view_count": null,
      "_view_module_version": "1.2.0",
      "bar_color": null,
      "_model_module": "@jupyter-widgets/controls"
     }
    },
    "e85b0a8ef0df4236b75e5a2cd4c0c0e4": {
     "model_module": "@jupyter-widgets/base",
     "model_name": "LayoutModel",
     "state": {
      "_view_name": "LayoutView",
      "grid_template_rows": null,
      "right": null,
      "justify_content": null,
      "_view_module": "@jupyter-widgets/base",
      "overflow": null,
      "_model_module_version": "1.2.0",
      "_view_count": null,
      "flex_flow": null,
      "width": null,
      "min_width": null,
      "border": null,
      "align_items": null,
      "bottom": null,
      "_model_module": "@jupyter-widgets/base",
      "top": null,
      "grid_column": null,
      "overflow_y": null,
      "overflow_x": null,
      "grid_auto_flow": null,
      "grid_area": null,
      "grid_template_columns": null,
      "flex": null,
      "_model_name": "LayoutModel",
      "justify_items": null,
      "grid_row": null,
      "max_height": null,
      "align_content": null,
      "visibility": null,
      "align_self": null,
      "height": null,
      "min_height": null,
      "padding": null,
      "grid_auto_rows": null,
      "grid_gap": null,
      "max_width": null,
      "order": null,
      "_view_module_version": "1.2.0",
      "grid_template_areas": null,
      "object_position": null,
      "object_fit": null,
      "grid_auto_columns": null,
      "margin": null,
      "display": null,
      "left": null
     }
    },
    "c360eca9701347fc8534460a5bee0e3d": {
     "model_module": "@jupyter-widgets/controls",
     "model_name": "DescriptionStyleModel",
     "state": {
      "_view_name": "StyleView",
      "_model_name": "DescriptionStyleModel",
      "description_width": "",
      "_view_module": "@jupyter-widgets/base",
      "_model_module_version": "1.5.0",
      "_view_count": null,
      "_view_module_version": "1.2.0",
      "_model_module": "@jupyter-widgets/controls"
     }
    },
    "f495aab614074f01b9d3d67a45a79de6": {
     "model_module": "@jupyter-widgets/base",
     "model_name": "LayoutModel",
     "state": {
      "_view_name": "LayoutView",
      "grid_template_rows": null,
      "right": null,
      "justify_content": null,
      "_view_module": "@jupyter-widgets/base",
      "overflow": null,
      "_model_module_version": "1.2.0",
      "_view_count": null,
      "flex_flow": null,
      "width": null,
      "min_width": null,
      "border": null,
      "align_items": null,
      "bottom": null,
      "_model_module": "@jupyter-widgets/base",
      "top": null,
      "grid_column": null,
      "overflow_y": null,
      "overflow_x": null,
      "grid_auto_flow": null,
      "grid_area": null,
      "grid_template_columns": null,
      "flex": null,
      "_model_name": "LayoutModel",
      "justify_items": null,
      "grid_row": null,
      "max_height": null,
      "align_content": null,
      "visibility": null,
      "align_self": null,
      "height": null,
      "min_height": null,
      "padding": null,
      "grid_auto_rows": null,
      "grid_gap": null,
      "max_width": null,
      "order": null,
      "_view_module_version": "1.2.0",
      "grid_template_areas": null,
      "object_position": null,
      "object_fit": null,
      "grid_auto_columns": null,
      "margin": null,
      "display": null,
      "left": null
     }
    },
    "5f2a14229544486da7748a212c82521b": {
     "model_module": "@jupyter-widgets/controls",
     "model_name": "HBoxModel",
     "state": {
      "_view_name": "HBoxView",
      "_dom_classes": [],
      "_model_name": "HBoxModel",
      "_view_module": "@jupyter-widgets/controls",
      "_model_module_version": "1.5.0",
      "_view_count": null,
      "_view_module_version": "1.5.0",
      "box_style": "",
      "layout": "IPY_MODEL_72b97afc8fee4b0eafa3dfceaef0bc0f",
      "_model_module": "@jupyter-widgets/controls",
      "children": [
       "IPY_MODEL_6ffb31b7ab4548049e108d24eb4c7a44",
       "IPY_MODEL_537f7e1826074c58857b7c69a5faf4f0"
      ]
     }
    },
    "72b97afc8fee4b0eafa3dfceaef0bc0f": {
     "model_module": "@jupyter-widgets/base",
     "model_name": "LayoutModel",
     "state": {
      "_view_name": "LayoutView",
      "grid_template_rows": null,
      "right": null,
      "justify_content": null,
      "_view_module": "@jupyter-widgets/base",
      "overflow": null,
      "_model_module_version": "1.2.0",
      "_view_count": null,
      "flex_flow": null,
      "width": null,
      "min_width": null,
      "border": null,
      "align_items": null,
      "bottom": null,
      "_model_module": "@jupyter-widgets/base",
      "top": null,
      "grid_column": null,
      "overflow_y": null,
      "overflow_x": null,
      "grid_auto_flow": null,
      "grid_area": null,
      "grid_template_columns": null,
      "flex": null,
      "_model_name": "LayoutModel",
      "justify_items": null,
      "grid_row": null,
      "max_height": null,
      "align_content": null,
      "visibility": null,
      "align_self": null,
      "height": null,
      "min_height": null,
      "padding": null,
      "grid_auto_rows": null,
      "grid_gap": null,
      "max_width": null,
      "order": null,
      "_view_module_version": "1.2.0",
      "grid_template_areas": null,
      "object_position": null,
      "object_fit": null,
      "grid_auto_columns": null,
      "margin": null,
      "display": null,
      "left": null
     }
    },
    "6ffb31b7ab4548049e108d24eb4c7a44": {
     "model_module": "@jupyter-widgets/controls",
     "model_name": "FloatProgressModel",
     "state": {
      "_view_name": "ProgressView",
      "style": "IPY_MODEL_e24c0ce140aa47a1a80c3831cf4c0e47",
      "_dom_classes": [],
      "description": "100%",
      "_model_name": "FloatProgressModel",
      "bar_style": "success",
      "max": 2049,
      "_view_module": "@jupyter-widgets/controls",
      "_model_module_version": "1.5.0",
      "value": 2049,
      "_view_count": null,
      "_view_module_version": "1.5.0",
      "orientation": "horizontal",
      "min": 0,
      "description_tooltip": null,
      "_model_module": "@jupyter-widgets/controls",
      "layout": "IPY_MODEL_6a857ee4dc094af494859c884b16da4b"
     }
    },
    "537f7e1826074c58857b7c69a5faf4f0": {
     "model_module": "@jupyter-widgets/controls",
     "model_name": "HTMLModel",
     "state": {
      "_view_name": "HTMLView",
      "style": "IPY_MODEL_a4d2bb1dd3d0400682d5c1b3406ba94d",
      "_dom_classes": [],
      "description": "",
      "_model_name": "HTMLModel",
      "placeholder": "​",
      "_view_module": "@jupyter-widgets/controls",
      "_model_module_version": "1.5.0",
      "value": " 2049/2049 [2:58:06&lt;00:00,  5.22s/it]",
      "_view_count": null,
      "_view_module_version": "1.5.0",
      "description_tooltip": null,
      "_model_module": "@jupyter-widgets/controls",
      "layout": "IPY_MODEL_b7c525ffa77844ce907cbfd45ce74ae5"
     }
    },
    "e24c0ce140aa47a1a80c3831cf4c0e47": {
     "model_module": "@jupyter-widgets/controls",
     "model_name": "ProgressStyleModel",
     "state": {
      "_view_name": "StyleView",
      "_model_name": "ProgressStyleModel",
      "description_width": "initial",
      "_view_module": "@jupyter-widgets/base",
      "_model_module_version": "1.5.0",
      "_view_count": null,
      "_view_module_version": "1.2.0",
      "bar_color": null,
      "_model_module": "@jupyter-widgets/controls"
     }
    },
    "6a857ee4dc094af494859c884b16da4b": {
     "model_module": "@jupyter-widgets/base",
     "model_name": "LayoutModel",
     "state": {
      "_view_name": "LayoutView",
      "grid_template_rows": null,
      "right": null,
      "justify_content": null,
      "_view_module": "@jupyter-widgets/base",
      "overflow": null,
      "_model_module_version": "1.2.0",
      "_view_count": null,
      "flex_flow": null,
      "width": null,
      "min_width": null,
      "border": null,
      "align_items": null,
      "bottom": null,
      "_model_module": "@jupyter-widgets/base",
      "top": null,
      "grid_column": null,
      "overflow_y": null,
      "overflow_x": null,
      "grid_auto_flow": null,
      "grid_area": null,
      "grid_template_columns": null,
      "flex": null,
      "_model_name": "LayoutModel",
      "justify_items": null,
      "grid_row": null,
      "max_height": null,
      "align_content": null,
      "visibility": null,
      "align_self": null,
      "height": null,
      "min_height": null,
      "padding": null,
      "grid_auto_rows": null,
      "grid_gap": null,
      "max_width": null,
      "order": null,
      "_view_module_version": "1.2.0",
      "grid_template_areas": null,
      "object_position": null,
      "object_fit": null,
      "grid_auto_columns": null,
      "margin": null,
      "display": null,
      "left": null
     }
    },
    "a4d2bb1dd3d0400682d5c1b3406ba94d": {
     "model_module": "@jupyter-widgets/controls",
     "model_name": "DescriptionStyleModel",
     "state": {
      "_view_name": "StyleView",
      "_model_name": "DescriptionStyleModel",
      "description_width": "",
      "_view_module": "@jupyter-widgets/base",
      "_model_module_version": "1.5.0",
      "_view_count": null,
      "_view_module_version": "1.2.0",
      "_model_module": "@jupyter-widgets/controls"
     }
    },
    "b7c525ffa77844ce907cbfd45ce74ae5": {
     "model_module": "@jupyter-widgets/base",
     "model_name": "LayoutModel",
     "state": {
      "_view_name": "LayoutView",
      "grid_template_rows": null,
      "right": null,
      "justify_content": null,
      "_view_module": "@jupyter-widgets/base",
      "overflow": null,
      "_model_module_version": "1.2.0",
      "_view_count": null,
      "flex_flow": null,
      "width": null,
      "min_width": null,
      "border": null,
      "align_items": null,
      "bottom": null,
      "_model_module": "@jupyter-widgets/base",
      "top": null,
      "grid_column": null,
      "overflow_y": null,
      "overflow_x": null,
      "grid_auto_flow": null,
      "grid_area": null,
      "grid_template_columns": null,
      "flex": null,
      "_model_name": "LayoutModel",
      "justify_items": null,
      "grid_row": null,
      "max_height": null,
      "align_content": null,
      "visibility": null,
      "align_self": null,
      "height": null,
      "min_height": null,
      "padding": null,
      "grid_auto_rows": null,
      "grid_gap": null,
      "max_width": null,
      "order": null,
      "_view_module_version": "1.2.0",
      "grid_template_areas": null,
      "object_position": null,
      "object_fit": null,
      "grid_auto_columns": null,
      "margin": null,
      "display": null,
      "left": null
     }
    },
    "29b4637e503646518044a0506707c51c": {
     "model_module": "@jupyter-widgets/controls",
     "model_name": "HBoxModel",
     "state": {
      "_view_name": "HBoxView",
      "_dom_classes": [],
      "_model_name": "HBoxModel",
      "_view_module": "@jupyter-widgets/controls",
      "_model_module_version": "1.5.0",
      "_view_count": null,
      "_view_module_version": "1.5.0",
      "box_style": "",
      "layout": "IPY_MODEL_ee86d2905b65493f935e7d767f317e5a",
      "_model_module": "@jupyter-widgets/controls",
      "children": [
       "IPY_MODEL_3c8a5eebee644b8aa864cebddf8ecd19",
       "IPY_MODEL_dee9a90d78ec4dc68cc0404b72151ba4"
      ]
     }
    },
    "ee86d2905b65493f935e7d767f317e5a": {
     "model_module": "@jupyter-widgets/base",
     "model_name": "LayoutModel",
     "state": {
      "_view_name": "LayoutView",
      "grid_template_rows": null,
      "right": null,
      "justify_content": null,
      "_view_module": "@jupyter-widgets/base",
      "overflow": null,
      "_model_module_version": "1.2.0",
      "_view_count": null,
      "flex_flow": null,
      "width": null,
      "min_width": null,
      "border": null,
      "align_items": null,
      "bottom": null,
      "_model_module": "@jupyter-widgets/base",
      "top": null,
      "grid_column": null,
      "overflow_y": null,
      "overflow_x": null,
      "grid_auto_flow": null,
      "grid_area": null,
      "grid_template_columns": null,
      "flex": null,
      "_model_name": "LayoutModel",
      "justify_items": null,
      "grid_row": null,
      "max_height": null,
      "align_content": null,
      "visibility": null,
      "align_self": null,
      "height": null,
      "min_height": null,
      "padding": null,
      "grid_auto_rows": null,
      "grid_gap": null,
      "max_width": null,
      "order": null,
      "_view_module_version": "1.2.0",
      "grid_template_areas": null,
      "object_position": null,
      "object_fit": null,
      "grid_auto_columns": null,
      "margin": null,
      "display": null,
      "left": null
     }
    },
    "3c8a5eebee644b8aa864cebddf8ecd19": {
     "model_module": "@jupyter-widgets/controls",
     "model_name": "FloatProgressModel",
     "state": {
      "_view_name": "ProgressView",
      "style": "IPY_MODEL_9b06af5749dc40dba594a531882f8e13",
      "_dom_classes": [],
      "description": "",
      "_model_name": "FloatProgressModel",
      "bar_style": "success",
      "max": 1,
      "_view_module": "@jupyter-widgets/controls",
      "_model_module_version": "1.5.0",
      "value": 0,
      "_view_count": null,
      "_view_module_version": "1.5.0",
      "orientation": "horizontal",
      "min": 0,
      "description_tooltip": null,
      "_model_module": "@jupyter-widgets/controls",
      "layout": "IPY_MODEL_4a76ed9e29964b2281483d188cfef1b1"
     }
    },
    "dee9a90d78ec4dc68cc0404b72151ba4": {
     "model_module": "@jupyter-widgets/controls",
     "model_name": "HTMLModel",
     "state": {
      "_view_name": "HTMLView",
      "style": "IPY_MODEL_bd6023ce5e0b423bb6bb628e12894bbc",
      "_dom_classes": [],
      "description": "",
      "_model_name": "HTMLModel",
      "placeholder": "​",
      "_view_module": "@jupyter-widgets/controls",
      "_model_module_version": "1.5.0",
      "value": " 0/0 [00:00&lt;?, ?it/s]",
      "_view_count": null,
      "_view_module_version": "1.5.0",
      "description_tooltip": null,
      "_model_module": "@jupyter-widgets/controls",
      "layout": "IPY_MODEL_04f67ef96a4e48f9ab79ac4f7d0336a3"
     }
    },
    "9b06af5749dc40dba594a531882f8e13": {
     "model_module": "@jupyter-widgets/controls",
     "model_name": "ProgressStyleModel",
     "state": {
      "_view_name": "StyleView",
      "_model_name": "ProgressStyleModel",
      "description_width": "initial",
      "_view_module": "@jupyter-widgets/base",
      "_model_module_version": "1.5.0",
      "_view_count": null,
      "_view_module_version": "1.2.0",
      "bar_color": null,
      "_model_module": "@jupyter-widgets/controls"
     }
    },
    "4a76ed9e29964b2281483d188cfef1b1": {
     "model_module": "@jupyter-widgets/base",
     "model_name": "LayoutModel",
     "state": {
      "_view_name": "LayoutView",
      "grid_template_rows": null,
      "right": null,
      "justify_content": null,
      "_view_module": "@jupyter-widgets/base",
      "overflow": null,
      "_model_module_version": "1.2.0",
      "_view_count": null,
      "flex_flow": null,
      "width": null,
      "min_width": null,
      "border": null,
      "align_items": null,
      "bottom": null,
      "_model_module": "@jupyter-widgets/base",
      "top": null,
      "grid_column": null,
      "overflow_y": null,
      "overflow_x": null,
      "grid_auto_flow": null,
      "grid_area": null,
      "grid_template_columns": null,
      "flex": null,
      "_model_name": "LayoutModel",
      "justify_items": null,
      "grid_row": null,
      "max_height": null,
      "align_content": null,
      "visibility": null,
      "align_self": null,
      "height": null,
      "min_height": null,
      "padding": null,
      "grid_auto_rows": null,
      "grid_gap": null,
      "max_width": null,
      "order": null,
      "_view_module_version": "1.2.0",
      "grid_template_areas": null,
      "object_position": null,
      "object_fit": null,
      "grid_auto_columns": null,
      "margin": null,
      "display": null,
      "left": null
     }
    },
    "bd6023ce5e0b423bb6bb628e12894bbc": {
     "model_module": "@jupyter-widgets/controls",
     "model_name": "DescriptionStyleModel",
     "state": {
      "_view_name": "StyleView",
      "_model_name": "DescriptionStyleModel",
      "description_width": "",
      "_view_module": "@jupyter-widgets/base",
      "_model_module_version": "1.5.0",
      "_view_count": null,
      "_view_module_version": "1.2.0",
      "_model_module": "@jupyter-widgets/controls"
     }
    },
    "04f67ef96a4e48f9ab79ac4f7d0336a3": {
     "model_module": "@jupyter-widgets/base",
     "model_name": "LayoutModel",
     "state": {
      "_view_name": "LayoutView",
      "grid_template_rows": null,
      "right": null,
      "justify_content": null,
      "_view_module": "@jupyter-widgets/base",
      "overflow": null,
      "_model_module_version": "1.2.0",
      "_view_count": null,
      "flex_flow": null,
      "width": null,
      "min_width": null,
      "border": null,
      "align_items": null,
      "bottom": null,
      "_model_module": "@jupyter-widgets/base",
      "top": null,
      "grid_column": null,
      "overflow_y": null,
      "overflow_x": null,
      "grid_auto_flow": null,
      "grid_area": null,
      "grid_template_columns": null,
      "flex": null,
      "_model_name": "LayoutModel",
      "justify_items": null,
      "grid_row": null,
      "max_height": null,
      "align_content": null,
      "visibility": null,
      "align_self": null,
      "height": null,
      "min_height": null,
      "padding": null,
      "grid_auto_rows": null,
      "grid_gap": null,
      "max_width": null,
      "order": null,
      "_view_module_version": "1.2.0",
      "grid_template_areas": null,
      "object_position": null,
      "object_fit": null,
      "grid_auto_columns": null,
      "margin": null,
      "display": null,
      "left": null
     }
    }
   }
  },
  "pycharm": {
   "stem_cell": {
    "cell_type": "raw",
    "source": [],
    "metadata": {
     "collapsed": false
    }
   }
  }
 },
 "cells": [
  {
   "cell_type": "code",
   "metadata": {
    "id": "mVkHM6b2FZHk",
    "colab_type": "code",
    "colab": {
     "base_uri": "https://localhost:8080/",
     "height": 34
    },
    "executionInfo": {
     "status": "ok",
     "timestamp": 1601039098881,
     "user_tz": -180,
     "elapsed": 682,
     "user": {
      "displayName": "Or Lichter",
      "photoUrl": "",
      "userId": "17631870044042233002"
     }
    },
    "outputId": "0f447605-3b8c-45ed-8324-4735422a7d9e",
    "pycharm": {
     "is_executing": false
    }
   },
   "source": [
    "from google.colab import drive\n",
    "drive.mount('/content/gdrive')"
   ],
   "execution_count": 6,
   "outputs": [
    {
     "traceback": [
      "\u001b[0;31m---------------------------------------------------------------------------\u001b[0m",
      "\u001b[0;31mModuleNotFoundError\u001b[0m                       Traceback (most recent call last)",
      "\u001b[0;32m<ipython-input-6-19e6feed25e4>\u001b[0m in \u001b[0;36m<module>\u001b[0;34m\u001b[0m\n\u001b[0;32m----> 1\u001b[0;31m \u001b[0;32mfrom\u001b[0m \u001b[0mgoogle\u001b[0m\u001b[0;34m.\u001b[0m\u001b[0mcolab\u001b[0m \u001b[0;32mimport\u001b[0m \u001b[0mdrive\u001b[0m\u001b[0;34m\u001b[0m\u001b[0;34m\u001b[0m\u001b[0m\n\u001b[0m\u001b[1;32m      2\u001b[0m \u001b[0mdrive\u001b[0m\u001b[0;34m.\u001b[0m\u001b[0mmount\u001b[0m\u001b[0;34m(\u001b[0m\u001b[0;34m'/content/gdrive'\u001b[0m\u001b[0;34m)\u001b[0m\u001b[0;34m\u001b[0m\u001b[0;34m\u001b[0m\u001b[0m\n\u001b[1;32m      3\u001b[0m \u001b[0;34m\u001b[0m\u001b[0m\n",
      "\u001b[0;31mModuleNotFoundError\u001b[0m: No module named 'google.colab'"
     ],
     "ename": "ModuleNotFoundError",
     "evalue": "No module named 'google.colab'",
     "output_type": "error"
    }
   ]
  },
  {
   "cell_type": "code",
   "metadata": {
    "id": "-wwRi_LpGG0j",
    "colab_type": "code",
    "colab": {},
    "executionInfo": {
     "status": "ok",
     "timestamp": 1601039403095,
     "user_tz": -180,
     "elapsed": 1552,
     "user": {
      "displayName": "Or Lichter",
      "photoUrl": "",
      "userId": "17631870044042233002"
     }
    },
    "pycharm": {
     "is_executing": false
    }
   },
   "source": [
    "import glob\n",
    "import os\n",
    "import pandas as pd\n",
    "from sklearn.preprocessing import StandardScaler, MinMaxScaler\n",
    "from tqdm import tqdm_notebook\n",
    "import pickle\n",
    "from time import sleep\n"
   ],
   "execution_count": null,
   "outputs": []
  },
  {
   "cell_type": "code",
   "metadata": {
    "id": "p8Y8uiKVGqAB",
    "colab_type": "code",
    "colab": {},
    "executionInfo": {
     "status": "ok",
     "timestamp": 1601039404709,
     "user_tz": -180,
     "elapsed": 1610,
     "user": {
      "displayName": "Or Lichter",
      "photoUrl": "",
      "userId": "17631870044042233002"
     }
    },
    "pycharm": {
     "is_executing": false
    }
   },
   "source": [
    "data_files = glob.glob('gdrive/My Drive/ML Project/Normalized Data/*.txt')"
   ],
   "execution_count": null,
   "outputs": []
  },
  {
   "cell_type": "markdown",
   "metadata": {
    "id": "ha54qLAdHQNe",
    "colab_type": "text"
   },
   "source": [
    "# Scaling"
   ]
  },
  {
   "cell_type": "code",
   "metadata": {
    "id": "AioWvLX26-an",
    "colab_type": "code",
    "colab": {},
    "pycharm": {
     "is_executing": false
    }
   },
   "source": [
    "def fit_scaler_and_save(scaler, output_scaler_name):\n",
    "  \"\"\"\n",
    "    Fits the input scaler and saves the outputs\n",
    "    data_files needs to be a global variable.\n",
    "    Args:\n",
    "        scaler: a Scaler obejct to fit\n",
    "        output_scaler_name: The folder in which to save the pickled\n",
    "        scalers\n",
    "    \n",
    "  \"\"\"\n",
    "  i = 0\n",
    "  for file in tqdm_notebook(data_files):\n",
    "      df = pd.read_csv(file,sep='\\t')\n",
    "      scaled_parameters = df.iloc[:,7:]\n",
    "      scaler.partial_fit(scaled_parameters)\n",
    "      i+=1\n",
    "      if i%15 == 0:\n",
    "        print(f'Saved {output_scaler_name} after {i} files.')\n",
    "        with open(f'gdrive/My Drive/ML Project/{output_scaler_name}.pickle', 'wb') as pickled_scaler:\n",
    "          pickle.dump(scaler, pickled_scaler)\n",
    "  with open(f'gdrive/My Drive/ML Project/{output_scaler_name}.pickle', 'wb') as pickled_scaler:\n",
    "    pickle.dump(scaler, pickled_scaler)\n",
    "  \n",
    "def transform_and_save(scaler, output_dir):\n",
    "  \"\"\"\n",
    "  Transform all data_files (which needs to be a global variable)\n",
    "  by the fitted scaler object\n",
    "  Args:\n",
    "      scaler: A Scaler object\n",
    "      output_dir: where to save the data\n",
    "\n",
    "  \"\"\"\n",
    "  for file in tqdm_notebook(data_files):\n",
    "    df = pd.read_csv(file,'\\t')\n",
    "    last_dot = file.rfind('.')\n",
    "    new_name = file[:last_dot]+\" - Scaled\"+file[last_dot:]\n",
    "    new_name = new_name.replace('Normalized Data', output_dir)\n",
    "    scaled_parameters = df.iloc[:,7:]\n",
    "    final_df = pd.concat([df.iloc[:,:7],pd.DataFrame(scaler.transform(scaled_parameters), columns=list(scaled_parameters.columns))],axis=1)\n",
    "    final_df.to_csv(new_name)"
   ],
   "execution_count": null,
   "outputs": []
  },
  {
   "cell_type": "markdown",
   "metadata": {
    "id": "Ooz5mZ8yW6VC",
    "colab_type": "text"
   },
   "source": [
    "### Standard Scaler\n"
   ]
  },
  {
   "cell_type": "code",
   "metadata": {
    "id": "gGz8sFE4HUr6",
    "colab_type": "code",
    "colab": {},
    "pycharm": {
     "is_executing": false
    }
   },
   "source": [
    "scaler = StandardScaler()\n",
    "fit_scaler_and_save(scaler, 'stadard_scaler')"
   ],
   "execution_count": null,
   "outputs": []
  },
  {
   "cell_type": "code",
   "metadata": {
    "id": "RekoNuis0iSd",
    "colab_type": "code",
    "colab": {},
    "pycharm": {
     "is_executing": false
    }
   },
   "source": [
    "# Load trained Scaler into memory\n",
    "with open('gdrive/My Drive/ML Project/stadard_scaler.pickle', 'rb') as pickled_scaler:\n",
    "    scaler = pickle.load(pickled_scaler)"
   ],
   "execution_count": null,
   "outputs": []
  },
  {
   "cell_type": "code",
   "metadata": {
    "id": "vlyNmqkcILI_",
    "colab_type": "code",
    "colab": {},
    "pycharm": {
     "is_executing": false
    }
   },
   "source": [
    "transform_and_save(scaler, 'Normalized and scaled data')"
   ],
   "execution_count": null,
   "outputs": []
  },
  {
   "cell_type": "markdown",
   "metadata": {
    "id": "PZ1DNp6d9MmQ",
    "colab_type": "text"
   },
   "source": [
    "### MinMaxScaler"
   ]
  },
  {
   "cell_type": "code",
   "metadata": {
    "id": "uW1oTaD79Lrx",
    "colab_type": "code",
    "colab": {},
    "pycharm": {
     "is_executing": false
    }
   },
   "source": [
    "scaler = MinMaxScaler()\n",
    "fit_scaler_and_save(scaler, 'MinMax_scaler')"
   ],
   "execution_count": null,
   "outputs": []
  },
  {
   "cell_type": "code",
   "metadata": {
    "id": "sbDwYrYYnmh2",
    "colab_type": "code",
    "colab": {
     "base_uri": "https://localhost:8080/",
     "height": 117,
     "referenced_widgets": [
      "b3cf196bd8bb4149b3c4daf0430b62e6",
      "e8a1e70a32694a41a2cf76050e00e4f3",
      "27a79503f5bd470eaa39c95c22e5713c",
      "b148edc412fe47068e439693b4d7e717",
      "6cc95e31a5bd488592e94c72157d141a",
      "84d2358a4bc44690a748b7157bd75514",
      "99e199072c8e432989d27af2d2cc482c",
      "5b5d50a98de34451afd218175af0de22"
     ]
    },
    "executionInfo": {
     "status": "ok",
     "timestamp": 1600445736112,
     "user_tz": -180,
     "elapsed": 19856725,
     "user": {
      "displayName": "Or Lichter",
      "photoUrl": "",
      "userId": "17631870044042233002"
     }
    },
    "outputId": "e639ec54-2562-406b-98c9-d3a3ba9fd7fe",
    "pycharm": {
     "is_executing": false
    }
   },
   "source": [
    "transform_and_save(scaler, 'Normalized and scaled data (MinMax Scaler)')"
   ],
   "execution_count": null,
   "outputs": []
  },
  {
   "cell_type": "markdown",
   "metadata": {
    "id": "0UP0catjK1Mp",
    "colab_type": "text"
   },
   "source": [
    "# Mini Batch K Means"
   ]
  },
  {
   "cell_type": "markdown",
   "metadata": {
    "id": "XMJpTOmdvi4l",
    "colab_type": "text"
   },
   "source": [
    "## Run MiniBatch K Means"
   ]
  },
  {
   "cell_type": "code",
   "metadata": {
    "id": "2dnIWsVsLFfA",
    "colab_type": "code",
    "colab": {},
    "executionInfo": {
     "status": "ok",
     "timestamp": 1601039408440,
     "user_tz": -180,
     "elapsed": 624,
     "user": {
      "displayName": "Or Lichter",
      "photoUrl": "",
      "userId": "17631870044042233002"
     }
    },
    "pycharm": {
     "is_executing": false
    }
   },
   "source": [
    "from sklearn.cluster import MiniBatchKMeans\n",
    "import numpy as np\n",
    "\n",
    "FILES_IN_BATCH=3\n",
    "BATCH_SIZE = 100\n",
    "MAX_ITER = 10\n",
    "MAX_CLUSTERS=10\n"
   ],
   "execution_count": 7,
   "outputs": []
  },
  {
   "cell_type": "code",
   "metadata": {
    "id": "rsGjtBBAQW1b",
    "colab_type": "code",
    "colab": {},
    "executionInfo": {
     "status": "ok",
     "timestamp": 1601030819914,
     "user_tz": -180,
     "elapsed": 1485,
     "user": {
      "displayName": "Or Lichter",
      "photoUrl": "",
      "userId": "17631870044042233002"
     }
    },
    "pycharm": {
     "is_executing": false
    }
   },
   "source": [
    "def concat_files(file_list: list) -> pd.DataFrame:\n",
    "  '''\n",
    "  Given a list of indices in SCALED_FILES \n",
    "  return one concatenated DataFrame of all of the files\n",
    "  '''\n",
    "  li = []\n",
    "\n",
    "  for file in file_list:\n",
    "      df = pd.read_csv(file, index_col=None, header=0)\n",
    "      li.append(df)\n",
    "\n",
    "  return pd.concat(li, axis=0, ignore_index=True)\n",
    "\n",
    "def get_new_df(num_of_files: int = FILES_IN_BATCH):\n",
    "  \"\"\"\n",
    "  Out of the global variable SCALED_FILES choose num_of_files files at random\n",
    "  and concatenate them into one dataframe\n",
    "   \n",
    "  Args:\n",
    "      num_of_files: The number of files to concatenate\n",
    "\n",
    "  Returns:\n",
    "    One large dataframe\n",
    "  \"\"\"\n",
    "  actual_file_num = min(num_of_files, len(SCALED_FILES))\n",
    "  file_list = np.random.choice(SCALED_FILES, actual_file_num)\n",
    "  df = concat_files(file_list)\n",
    "  for file in file_list:\n",
    "    try:\n",
    "      SCALED_FILES.remove(file)\n",
    "    except Exception:\n",
    "      print(file)\n",
    "  return df"
   ],
   "execution_count": 8,
   "outputs": []
  },
  {
   "cell_type": "code",
   "metadata": {
    "id": "WsPZvNNVoC0u",
    "colab_type": "code",
    "colab": {},
    "executionInfo": {
     "status": "ok",
     "timestamp": 1601030832987,
     "user_tz": -180,
     "elapsed": 11836,
     "user": {
      "displayName": "Or Lichter",
      "photoUrl": "",
      "userId": "17631870044042233002"
     }
    },
    "pycharm": {
     "is_executing": false
    }
   },
   "source": [
    "iteration_counter = 0\n",
    "SCALED_FILES = glob.glob('gdrive/My Drive/ML Project/Normalized and scaled data (MinMax Scaler)/*')\n",
    "kmeans_array = []\n",
    "for k in range(2,MAX_CLUSTERS+1):\n",
    "  kmeans_array.append(MiniBatchKMeans(n_clusters=k, random_state=0, batch_size=BATCH_SIZE, max_iter=MAX_ITER))"
   ],
   "execution_count": 9,
   "outputs": []
  },
  {
   "cell_type": "code",
   "metadata": {
    "id": "75q75DA33lzL",
    "colab_type": "code",
    "colab": {},
    "executionInfo": {
     "status": "ok",
     "timestamp": 1601030803823,
     "user_tz": -180,
     "elapsed": 2003,
     "user": {
      "displayName": "Or Lichter",
      "photoUrl": "",
      "userId": "17631870044042233002"
     }
    },
    "pycharm": {
     "is_executing": false
    }
   },
   "source": [
    "### IF NEEDED TO LOAD BACK DATA:\n",
    "# kmeans_array = []\n",
    "# for k in range(2,MAX_CLUSTERS+1):\n",
    "#   with open(f'gdrive/My Drive/ML Project/minibatchkmeans_minmax_{k}.pickle', 'rb') as pickled_kmeans:\n",
    "#         kmeans_array.append(pickle.load(pickled_kmeans))\n",
    "\n",
    "# with open('gdrive/My Drive/ML Project/files_left.pickle', 'rb') as files_left:\n",
    "#   SCALED_FILES = pickle.load(files_left)"
   ],
   "execution_count": 10,
   "outputs": []
  },
  {
   "cell_type": "code",
   "metadata": {
    "id": "tGRDTmdjK7rW",
    "colab_type": "code",
    "colab": {
     "base_uri": "https://localhost:8080/",
     "height": 273,
     "referenced_widgets": [
      "282d62774b484b0a94614593ddd2225f",
      "ea3001fd57f54e6ea833f9eb3bf17df8",
      "cd2abd781c7448beb306235d21063e93",
      "aa8d5b1a4d4b444280c328064692e650",
      "60836de19eba494d9bd023145b8ca6ba",
      "e85b0a8ef0df4236b75e5a2cd4c0c0e4",
      "c360eca9701347fc8534460a5bee0e3d",
      "f495aab614074f01b9d3d67a45a79de6"
     ]
    },
    "executionInfo": {
     "status": "ok",
     "timestamp": 1601038116331,
     "user_tz": -180,
     "elapsed": 236,
     "user": {
      "displayName": "Or Lichter",
      "photoUrl": "",
      "userId": "17631870044042233002"
     }
    },
    "outputId": "5148135f-72fe-448a-b3a2-7d26319f823e",
    "pycharm": {
     "is_executing": false
    }
   },
   "source": [
    "with tqdm_notebook(total=len(SCALED_FILES)) as pbar:\n",
    "  while SCALED_FILES:\n",
    "    df = get_new_df()\n",
    "    features_only = df.iloc[:,8:]\n",
    "    features_only.fillna(0, inplace=True)  # As this is Standard Scaller 0 is the mean for other scaller maybe dropna would be better.\n",
    "    for kmeans in kmeans_array:\n",
    "      kmeans.partial_fit(features_only)\n",
    "    if iteration_counter%15 == 0:\n",
    "      for k in range(2,MAX_CLUSTERS+1):\n",
    "        with open(f'gdrive/My Drive/ML Project/minibatchkmeans_minmax_{k}.pickle', 'wb') as pickled_kmeans:\n",
    "          pickle.dump(kmeans, pickled_kmeans)\n",
    "      with open('gdrive/My Drive/ML Project/files_left.pickle', 'wb') as files_left:\n",
    "        pickle.dump(SCALED_FILES, files_left)\n",
    "    pbar.update(FILES_IN_BATCH)\n",
    "\n",
    "    iteration_counter+=1"
   ],
   "execution_count": 11,
   "outputs": [
    {
     "name": "stderr",
     "text": [
      "<ipython-input-11-577514c4dac2>:1: TqdmDeprecationWarning: This function will be removed in tqdm==5.0.0\n",
      "Please use `tqdm.notebook.tqdm` instead of `tqdm.tqdm_notebook`\n",
      "  with tqdm_notebook(total=len(SCALED_FILES)) as pbar:\n"
     ],
     "output_type": "stream"
    },
    {
     "data": {
      "text/plain": "HBox(children=(FloatProgress(value=1.0, bar_style='info', max=1.0), HTML(value='')))",
      "application/vnd.jupyter.widget-view+json": {
       "version_major": 2,
       "version_minor": 0,
       "model_id": "53ee8095602a4db0b9df682f4e0dbc66"
      }
     },
     "metadata": {},
     "output_type": "display_data"
    },
    {
     "name": "stdout",
     "text": [
      "\n"
     ],
     "output_type": "stream"
    }
   ]
  },
  {
   "cell_type": "code",
   "metadata": {
    "id": "M7bVdjqfKUZn",
    "colab_type": "code",
    "colab": {},
    "pycharm": {
     "is_executing": false
    }
   },
   "source": [
    "# Save kmeans\n",
    "for k in range(2,MAX_CLUSTERS+1):\n",
    "  with open(f'gdrive/My Drive/ML Project/minibatchkmeans_minmax_{k}.pickle', 'wb') as pickled_kmeans:\n",
    "    pickle.dump(kmeans, pickled_kmeans)"
   ],
   "execution_count": 12,
   "outputs": [
    {
     "traceback": [
      "\u001b[0;31m---------------------------------------------------------------------------\u001b[0m",
      "\u001b[0;31mFileNotFoundError\u001b[0m                         Traceback (most recent call last)",
      "\u001b[0;32m<ipython-input-12-bc54a3eeacbb>\u001b[0m in \u001b[0;36m<module>\u001b[0;34m\u001b[0m\n\u001b[1;32m      1\u001b[0m \u001b[0;31m# Save kmeans\u001b[0m\u001b[0;34m\u001b[0m\u001b[0;34m\u001b[0m\u001b[0;34m\u001b[0m\u001b[0m\n\u001b[1;32m      2\u001b[0m \u001b[0;32mfor\u001b[0m \u001b[0mk\u001b[0m \u001b[0;32min\u001b[0m \u001b[0mrange\u001b[0m\u001b[0;34m(\u001b[0m\u001b[0;36m2\u001b[0m\u001b[0;34m,\u001b[0m\u001b[0mMAX_CLUSTERS\u001b[0m\u001b[0;34m+\u001b[0m\u001b[0;36m1\u001b[0m\u001b[0;34m)\u001b[0m\u001b[0;34m:\u001b[0m\u001b[0;34m\u001b[0m\u001b[0;34m\u001b[0m\u001b[0m\n\u001b[0;32m----> 3\u001b[0;31m   \u001b[0;32mwith\u001b[0m \u001b[0mopen\u001b[0m\u001b[0;34m(\u001b[0m\u001b[0;34mf'gdrive/My Drive/ML Project/minibatchkmeans_minmax_{k}.pickle'\u001b[0m\u001b[0;34m,\u001b[0m \u001b[0;34m'wb'\u001b[0m\u001b[0;34m)\u001b[0m \u001b[0;32mas\u001b[0m \u001b[0mpickled_kmeans\u001b[0m\u001b[0;34m:\u001b[0m\u001b[0;34m\u001b[0m\u001b[0;34m\u001b[0m\u001b[0m\n\u001b[0m\u001b[1;32m      4\u001b[0m     \u001b[0mpickle\u001b[0m\u001b[0;34m.\u001b[0m\u001b[0mdump\u001b[0m\u001b[0;34m(\u001b[0m\u001b[0mkmeans\u001b[0m\u001b[0;34m,\u001b[0m \u001b[0mpickled_kmeans\u001b[0m\u001b[0;34m)\u001b[0m\u001b[0;34m\u001b[0m\u001b[0;34m\u001b[0m\u001b[0m\n\u001b[1;32m      5\u001b[0m \u001b[0;34m\u001b[0m\u001b[0m\n",
      "\u001b[0;31mFileNotFoundError\u001b[0m: [Errno 2] No such file or directory: 'gdrive/My Drive/ML Project/minibatchkmeans_minmax_2.pickle'"
     ],
     "ename": "FileNotFoundError",
     "evalue": "[Errno 2] No such file or directory: 'gdrive/My Drive/ML Project/minibatchkmeans_minmax_2.pickle'",
     "output_type": "error"
    }
   ]
  },
  {
   "cell_type": "markdown",
   "metadata": {
    "id": "pEPwqUEJvZOX",
    "colab_type": "text"
   },
   "source": [
    "## Apply K-Means"
   ]
  },
  {
   "cell_type": "code",
   "metadata": {
    "id": "EirxKXGXtr1T",
    "colab_type": "code",
    "colab": {},
    "pycharm": {
     "is_executing": false
    }
   },
   "source": [
    ""
   ],
   "execution_count": null,
   "outputs": []
  },
  {
   "cell_type": "code",
   "metadata": {
    "id": "EXFX16WjbtXp",
    "colab_type": "code",
    "colab": {},
    "executionInfo": {
     "status": "ok",
     "timestamp": 1601039295064,
     "user_tz": -180,
     "elapsed": 665,
     "user": {
      "displayName": "Or Lichter",
      "photoUrl": "",
      "userId": "17631870044042233002"
     }
    },
    "pycharm": {
     "is_executing": false
    }
   },
   "source": [
    "def scale_file(file:str):\n",
    "  print(\"started\")\n",
    "  df = pd.read_csv(file)\n",
    "  df_info = df.iloc[:,:8]\n",
    "  df_parameters = df.iloc[:,8:].fillna(df.mean())\n",
    "  for k in range(2,MAX_CLUSTERS+1):\n",
    "    calssify_by_kmeans= kmeans_array[k-2].predict(df_parameters)\n",
    "    df_info = pd.concat([df_info,pd.Series(calssify_by_kmeans, name=f'K={k}')],axis=1)\n",
    "  name = file.split('/')[-1].replace('.txt', '.csv')\n",
    "  df_info.to_csv(save_dir+'/'+name)\n",
    "  print(f\"saved {save_dir+'/'+name}\")"
   ],
   "execution_count": null,
   "outputs": []
  },
  {
   "cell_type": "code",
   "metadata": {
    "id": "Je0wiPPov3OG",
    "colab_type": "code",
    "colab": {
     "base_uri": "https://localhost:8080/",
     "height": 1000,
     "referenced_widgets": [
      "5f2a14229544486da7748a212c82521b",
      "72b97afc8fee4b0eafa3dfceaef0bc0f",
      "6ffb31b7ab4548049e108d24eb4c7a44",
      "537f7e1826074c58857b7c69a5faf4f0",
      "e24c0ce140aa47a1a80c3831cf4c0e47",
      "6a857ee4dc094af494859c884b16da4b",
      "a4d2bb1dd3d0400682d5c1b3406ba94d",
      "b7c525ffa77844ce907cbfd45ce74ae5"
     ]
    },
    "executionInfo": {
     "status": "ok",
     "timestamp": 1601050102688,
     "user_tz": -180,
     "elapsed": 10689106,
     "user": {
      "displayName": "Or Lichter",
      "photoUrl": "",
      "userId": "17631870044042233002"
     }
    },
    "outputId": "52785bfe-3e6f-4ec4-8130-a215f8e5deca",
    "pycharm": {
     "is_executing": false
    }
   },
   "source": [
    "from concurrent.futures import ThreadPoolExecutor, as_completed\n",
    "# Load kmeans into memory\n",
    "kmeans_array = []\n",
    "for k in range(2,MAX_CLUSTERS+1):\n",
    "  with open(f'gdrive/My Drive/ML Project/minibatchkmeans_minmax_{k}.pickle', 'rb') as pickled_kmeans:\n",
    "        kmeans_array.append(pickle.load(pickled_kmeans))\n",
    "\n",
    "SCALED_FILES = glob.glob('gdrive/My Drive/ML Project/Normalized and scaled data (MinMax Scaler)/*')\n",
    "save_dir = 'gdrive/My Drive/ML Project/Kmean Mini Batch (MinMax)'\n",
    "for file in tqdm_notebook(SCALED_FILES):\n",
    "  df = pd.read_csv(file)\n",
    "  df_info = df.iloc[:,:8]\n",
    "  df_parameters = df.iloc[:,8:].fillna(df.mean())\n",
    "  for k in range(2,MAX_CLUSTERS+1):\n",
    "    calssify_by_kmeans= kmeans_array[k-2].predict(df_parameters)\n",
    "    df_info = pd.concat([df_info,pd.Series(calssify_by_kmeans, name=f'K={k}')],axis=1)\n",
    "  name = file.split('/')[-1].replace('.txt', '.csv')\n",
    "  df_info.to_csv(save_dir+'/'+name)\n",
    "  print(f\"saved {save_dir+'/'+name}\")\n",
    "print('Saved All Files')"
   ],
   "execution_count": null,
   "outputs": []
  },
  {
   "cell_type": "markdown",
   "metadata": {
    "id": "5hTf1qV40Ov6",
    "colab_type": "text"
   },
   "source": [
    "From nuclei clustering extract imgae clustering"
   ]
  },
  {
   "cell_type": "code",
   "metadata": {
    "id": "Vul0tY0T0KAQ",
    "colab_type": "code",
    "colab": {
     "base_uri": "https://localhost:8080/",
     "height": 133,
     "referenced_widgets": [
      "29b4637e503646518044a0506707c51c",
      "ee86d2905b65493f935e7d767f317e5a",
      "3c8a5eebee644b8aa864cebddf8ecd19",
      "dee9a90d78ec4dc68cc0404b72151ba4",
      "9b06af5749dc40dba594a531882f8e13",
      "4a76ed9e29964b2281483d188cfef1b1",
      "bd6023ce5e0b423bb6bb628e12894bbc",
      "04f67ef96a4e48f9ab79ac4f7d0336a3"
     ]
    },
    "executionInfo": {
     "status": "ok",
     "timestamp": 1600528722803,
     "user_tz": -180,
     "elapsed": 860,
     "user": {
      "displayName": "רון ציבולסקי",
      "photoUrl": "",
      "userId": "15204623617790455813"
     }
    },
    "outputId": "14e22226-ac4f-4de5-9554-1166ce0df448",
    "pycharm": {
     "is_executing": false
    }
   },
   "source": [
    "print(\"hello\")\n",
    "NUCLEI_KMEANS_RESULTS = glob.glob('gdrive/Shared with me/ML Project/ron_test/*')\n",
    "save_dir = '/My Drive/ML Project/ron_test/results1'\n",
    "for file in tqdm_notebook(NUCLEI_KMEANS_RESULTS):\n",
    "  print(\"1\")\n",
    "  df = pd.read_csv(file)\n",
    "  df_info = df.iloc[:,:8]\n",
    "  print(df_info)\n",
    "  print(\"hello\")\n",
    "\n"
   ],
   "execution_count": null,
   "outputs": []
  }
 ]
}